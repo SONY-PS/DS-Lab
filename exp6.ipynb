{
 "cells": [
  {
   "cell_type": "code",
   "execution_count": 1,
   "id": "edf0c67b",
   "metadata": {},
   "outputs": [],
   "source": [
    "import numpy as np\n",
    "from sklearn import datasets\n",
    "from sklearn.tree import DecisionTreeClassifier,plot_tree\n",
    "from sklearn.model_selection import train_test_split\n",
    "from sklearn.datasets import load_iris\n",
    "from sklearn.metrics import accuracy_score\n",
    "from sklearn.preprocessing import StandardScaler\n",
    "from sklearn.metrics import classification_report, confusion_matrix\n"
   ]
  },
  {
   "cell_type": "code",
   "execution_count": 3,
   "id": "668b9f4c",
   "metadata": {},
   "outputs": [],
   "source": [
    "irisData = load_iris()"
   ]
  },
  {
   "cell_type": "code",
   "execution_count": 4,
   "id": "798015c2",
   "metadata": {},
   "outputs": [],
   "source": [
    "X = irisData.data\n",
    "y = irisData.target"
   ]
  },
  {
   "cell_type": "code",
   "execution_count": 5,
   "id": "a57b9aa5",
   "metadata": {},
   "outputs": [],
   "source": [
    "X_train, X_test, y_train, y_test = train_test_split(X, y, test_size = 0.2, random_state=42)"
   ]
  },
  {
   "cell_type": "code",
   "execution_count": 6,
   "id": "34f74b75",
   "metadata": {},
   "outputs": [],
   "source": [
    "sc = StandardScaler()\n",
    "X_train = sc.fit_transform(X_train)\n",
    "X_test = sc.fit_transform(X_test)"
   ]
  },
  {
   "cell_type": "code",
   "execution_count": 7,
   "id": "aacc4047",
   "metadata": {},
   "outputs": [
    {
     "data": {
      "text/plain": [
       "DecisionTreeClassifier()"
      ]
     },
     "execution_count": 7,
     "metadata": {},
     "output_type": "execute_result"
    }
   ],
   "source": [
    "nb = DecisionTreeClassifier()\n",
    "nb.fit(X_train, y_train)"
   ]
  },
  {
   "cell_type": "code",
   "execution_count": 8,
   "id": "e58ccf73",
   "metadata": {},
   "outputs": [
    {
     "data": {
      "text/plain": [
       "array([1, 0, 2, 1, 1, 0, 1, 2, 1, 1, 2, 0, 0, 0, 0, 1, 2, 1, 1, 2, 0, 2,\n",
       "       0, 2, 2, 2, 2, 2, 0, 0])"
      ]
     },
     "execution_count": 8,
     "metadata": {},
     "output_type": "execute_result"
    }
   ],
   "source": [
    "y_pred = nb.predict(X_test)\n",
    "y_pred\n"
   ]
  },
  {
   "cell_type": "code",
   "execution_count": 9,
   "id": "7d38d064",
   "metadata": {},
   "outputs": [
    {
     "data": {
      "text/plain": [
       "[Text(103.01538461538462, 201.90857142857143, 'X[3] <= -0.512\\ngini = 0.667\\nsamples = 120\\nvalue = [40, 41, 39]'),\n",
       " Text(77.26153846153846, 170.84571428571428, 'gini = 0.0\\nsamples = 40\\nvalue = [40, 0, 0]'),\n",
       " Text(128.76923076923077, 170.84571428571428, 'X[2] <= 0.586\\ngini = 0.5\\nsamples = 80\\nvalue = [0, 41, 39]'),\n",
       " Text(51.50769230769231, 139.78285714285715, 'X[3] <= 0.623\\ngini = 0.053\\nsamples = 37\\nvalue = [0, 36, 1]'),\n",
       " Text(25.753846153846155, 108.72, 'gini = 0.0\\nsamples = 36\\nvalue = [0, 36, 0]'),\n",
       " Text(77.26153846153846, 108.72, 'gini = 0.0\\nsamples = 1\\nvalue = [0, 0, 1]'),\n",
       " Text(206.03076923076924, 139.78285714285715, 'X[3] <= 0.756\\ngini = 0.206\\nsamples = 43\\nvalue = [0, 5, 38]'),\n",
       " Text(128.76923076923077, 108.72, 'X[2] <= 0.701\\ngini = 0.5\\nsamples = 8\\nvalue = [0, 4, 4]'),\n",
       " Text(103.01538461538462, 77.65714285714284, 'gini = 0.0\\nsamples = 2\\nvalue = [0, 2, 0]'),\n",
       " Text(154.52307692307693, 77.65714285714284, 'X[3] <= 0.489\\ngini = 0.444\\nsamples = 6\\nvalue = [0, 2, 4]'),\n",
       " Text(128.76923076923077, 46.59428571428572, 'gini = 0.0\\nsamples = 3\\nvalue = [0, 0, 3]'),\n",
       " Text(180.27692307692308, 46.59428571428572, 'X[2] <= 0.988\\ngini = 0.444\\nsamples = 3\\nvalue = [0, 2, 1]'),\n",
       " Text(154.52307692307693, 15.531428571428563, 'gini = 0.0\\nsamples = 2\\nvalue = [0, 2, 0]'),\n",
       " Text(206.03076923076924, 15.531428571428563, 'gini = 0.0\\nsamples = 1\\nvalue = [0, 0, 1]'),\n",
       " Text(283.2923076923077, 108.72, 'X[2] <= 0.644\\ngini = 0.056\\nsamples = 35\\nvalue = [0, 1, 34]'),\n",
       " Text(257.53846153846155, 77.65714285714284, 'X[0] <= 0.172\\ngini = 0.444\\nsamples = 3\\nvalue = [0, 1, 2]'),\n",
       " Text(231.7846153846154, 46.59428571428572, 'gini = 0.0\\nsamples = 1\\nvalue = [0, 1, 0]'),\n",
       " Text(283.2923076923077, 46.59428571428572, 'gini = 0.0\\nsamples = 2\\nvalue = [0, 0, 2]'),\n",
       " Text(309.04615384615386, 77.65714285714284, 'gini = 0.0\\nsamples = 32\\nvalue = [0, 0, 32]')]"
      ]
     },
     "execution_count": 9,
     "metadata": {},
     "output_type": "execute_result"
    },
    {
     "data": {
      "image/png": "[encoded data removed]",
      "text/plain": [
       "<Figure size 432x288 with 1 Axes>"
      ]
     },
     "metadata": {
      "needs_background": "light"
     },
     "output_type": "display_data"
    }
   ],
   "source": [
    "plot_tree(nb)"
   ]
  },
  {
   "cell_type": "code",
   "execution_count": null,
   "id": "bb3d326f",
   "metadata": {},
   "outputs": [],
   "source": [
    "                             "
   ]
  }
 ],
 "metadata": {
  "kernelspec": {
   "display_name": "Python 3 (ipykernel)",
   "language": "python",
   "name": "python3"
  },
  "language_info": {
   "codemirror_mode": {
    "name": "ipython",
    "version": 3
   },
   "file_extension": ".py",
   "mimetype": "text/x-python",
   "name": "python",
   "nbconvert_exporter": "python",
   "pygments_lexer": "ipython3",
   "version": "3.9.7"
  }
 },
 "nbformat": 4,
 "nbformat_minor": 5
}
