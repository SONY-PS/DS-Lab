{
 "cells": [
  {
   "cell_type": "code",
   "execution_count": 1,
   "id": "7d24db9c",
   "metadata": {},
   "outputs": [
    {
     "name": "stdout",
     "output_type": "stream",
     "text": [
      "hello world\n"
     ]
    }
   ],
   "source": [
    "print(\"hello world\")"
   ]
  },
  {
   "cell_type": "code",
   "execution_count": 2,
   "id": "74ab0530",
   "metadata": {},
   "outputs": [
    {
     "name": "stdout",
     "output_type": "stream",
     "text": [
      "5\n",
      "<class 'int'>\n"
     ]
    }
   ],
   "source": [
    "a=5\n",
    "print(a)\n",
    "print(type(a))"
   ]
  },
  {
   "cell_type": "code",
   "execution_count": 3,
   "id": "78768e40",
   "metadata": {},
   "outputs": [
    {
     "name": "stdout",
     "output_type": "stream",
     "text": [
      "1.5\n",
      "<class 'float'>\n"
     ]
    }
   ],
   "source": [
    "f=1.5\n",
    "print(f)\n",
    "print(type(f))"
   ]
  },
  {
   "cell_type": "code",
   "execution_count": 4,
   "id": "7bae1ce8",
   "metadata": {},
   "outputs": [
    {
     "name": "stdout",
     "output_type": "stream",
     "text": [
      "hello\n",
      "<class 'str'>\n"
     ]
    }
   ],
   "source": [
    "s=\"hello\"\n",
    "print(s)\n",
    "print(type(s))"
   ]
  },
  {
   "cell_type": "code",
   "execution_count": 5,
   "id": "810b5215",
   "metadata": {},
   "outputs": [
    {
     "name": "stdout",
     "output_type": "stream",
     "text": [
      "True\n",
      "<class 'bool'>\n"
     ]
    }
   ],
   "source": [
    "b=True\n",
    "print(b)\n",
    "print(type(b))"
   ]
  },
  {
   "cell_type": "code",
   "execution_count": 6,
   "id": "4a90b13e",
   "metadata": {},
   "outputs": [
    {
     "name": "stdout",
     "output_type": "stream",
     "text": [
      "(5+3j)\n",
      "<class 'complex'>\n"
     ]
    }
   ],
   "source": [
    "t=5+3j\n",
    "print(t)\n",
    "print(type(t))"
   ]
  },
  {
   "cell_type": "code",
   "execution_count": 7,
   "id": "ba26d2af",
   "metadata": {},
   "outputs": [
    {
     "name": "stdout",
     "output_type": "stream",
     "text": [
      "10\n"
     ]
    }
   ],
   "source": [
    "a=7\n",
    "b=3\n",
    "sum=a+b\n",
    "print(sum)"
   ]
  },
  {
   "cell_type": "code",
   "execution_count": 8,
   "id": "cb68bdba",
   "metadata": {},
   "outputs": [
    {
     "name": "stdout",
     "output_type": "stream",
     "text": [
      "4\n"
     ]
    }
   ],
   "source": [
    "diff=a-b\n",
    "print(diff)"
   ]
  },
  {
   "cell_type": "code",
   "execution_count": 9,
   "id": "90130043",
   "metadata": {},
   "outputs": [
    {
     "name": "stdout",
     "output_type": "stream",
     "text": [
      "21\n",
      "2.3333333333333335\n"
     ]
    }
   ],
   "source": [
    "mul=a*b\n",
    "print(mul)\n",
    "\n",
    "quo=a/b\n",
    "print(quo)"
   ]
  },
  {
   "cell_type": "code",
   "execution_count": 10,
   "id": "461bec87",
   "metadata": {},
   "outputs": [
    {
     "name": "stdout",
     "output_type": "stream",
     "text": [
      "2\n"
     ]
    }
   ],
   "source": [
    "iquo=a//b\n",
    "print(iquo)"
   ]
  },
  {
   "cell_type": "code",
   "execution_count": 11,
   "id": "d6808c4d",
   "metadata": {},
   "outputs": [
    {
     "name": "stdout",
     "output_type": "stream",
     "text": [
      "343\n"
     ]
    }
   ],
   "source": [
    "pow=a**b\n",
    "print(pow)"
   ]
  },
  {
   "cell_type": "code",
   "execution_count": 14,
   "id": "ba79f986",
   "metadata": {},
   "outputs": [
    {
     "name": "stdout",
     "output_type": "stream",
     "text": [
      "True False\n"
     ]
    }
   ],
   "source": [
    "t=True\n",
    "f=False\n",
    "print(t,f)"
   ]
  },
  {
   "cell_type": "code",
   "execution_count": 20,
   "id": "ee102248",
   "metadata": {},
   "outputs": [
    {
     "name": "stdout",
     "output_type": "stream",
     "text": [
      "True\n"
     ]
    }
   ],
   "source": [
    "p=5>3\n",
    "print(p)"
   ]
  },
  {
   "cell_type": "code",
   "execution_count": 16,
   "id": "a76e5df7",
   "metadata": {},
   "outputs": [
    {
     "name": "stdout",
     "output_type": "stream",
     "text": [
      "False\n"
     ]
    }
   ],
   "source": [
    "q =-1<-12.5\n",
    "print(q)"
   ]
  },
  {
   "cell_type": "code",
   "execution_count": 21,
   "id": "4ef3a9c6",
   "metadata": {},
   "outputs": [
    {
     "name": "stdout",
     "output_type": "stream",
     "text": [
      "False\n",
      "True\n"
     ]
    }
   ],
   "source": [
    "print(p and q)\n",
    "print(p or q)"
   ]
  },
  {
   "cell_type": "code",
   "execution_count": 22,
   "id": "cd61dbb8",
   "metadata": {},
   "outputs": [
    {
     "name": "stdout",
     "output_type": "stream",
     "text": [
      "True\n"
     ]
    }
   ],
   "source": [
    "print(not q)"
   ]
  },
  {
   "cell_type": "code",
   "execution_count": 23,
   "id": "bddeac40",
   "metadata": {},
   "outputs": [
    {
     "name": "stdout",
     "output_type": "stream",
     "text": [
      "hello\n",
      "hello\n"
     ]
    }
   ],
   "source": [
    "s=\"hello\"\n",
    "u=\"hello\"\n",
    "print(s)\n",
    "print(u)"
   ]
  },
  {
   "cell_type": "code",
   "execution_count": 24,
   "id": "62aeb2f7",
   "metadata": {},
   "outputs": [],
   "source": [
    "s1=\"python\"\n",
    "s=\"world\""
   ]
  },
  {
   "cell_type": "code",
   "execution_count": 33,
   "id": "0c66ac1e",
   "metadata": {},
   "outputs": [
    {
     "name": "stdout",
     "output_type": "stream",
     "text": [
      "python world\n"
     ]
    }
   ],
   "source": [
    "s3=s1+' '+ s\n",
    "print(s3)"
   ]
  },
  {
   "cell_type": "code",
   "execution_count": 34,
   "id": "88ed071f",
   "metadata": {},
   "outputs": [],
   "source": [
    "s3='%s %s %d'%(s1,s,1011)"
   ]
  },
  {
   "cell_type": "code",
   "execution_count": 35,
   "id": "32d548b4",
   "metadata": {},
   "outputs": [
    {
     "name": "stdout",
     "output_type": "stream",
     "text": [
      "python world 1011\n"
     ]
    }
   ],
   "source": [
    "print(s3)"
   ]
  },
  {
   "cell_type": "code",
   "execution_count": 36,
   "id": "737b9492",
   "metadata": {},
   "outputs": [
    {
     "name": "stdout",
     "output_type": "stream",
     "text": [
      "17\n"
     ]
    }
   ],
   "source": [
    "print(len(s3))"
   ]
  },
  {
   "cell_type": "code",
   "execution_count": 38,
   "id": "ae37a1a4",
   "metadata": {},
   "outputs": [
    {
     "name": "stdout",
     "output_type": "stream",
     "text": [
      "PYTHON WORLD 1011\n"
     ]
    }
   ],
   "source": [
    "print(s3.upper())"
   ]
  },
  {
   "cell_type": "code",
   "execution_count": 39,
   "id": "e1b97aed",
   "metadata": {},
   "outputs": [
    {
     "name": "stdout",
     "output_type": "stream",
     "text": [
      "Python world 1011\n"
     ]
    }
   ],
   "source": [
    "print(s3.capitalize())"
   ]
  },
  {
   "cell_type": "code",
   "execution_count": 41,
   "id": "493a9a7a",
   "metadata": {},
   "outputs": [
    {
     "name": "stdout",
     "output_type": "stream",
     "text": [
      "python world 1011\n"
     ]
    }
   ],
   "source": [
    "print(s3.lower())"
   ]
  },
  {
   "cell_type": "code",
   "execution_count": 42,
   "id": "18569c82",
   "metadata": {},
   "outputs": [
    {
     "name": "stdout",
     "output_type": "stream",
     "text": [
      "['hello', 'world', 'how', 'are', 'you']\n"
     ]
    }
   ],
   "source": [
    "print('hello world how are you'.split(' '))"
   ]
  },
  {
   "cell_type": "code",
   "execution_count": 43,
   "id": "2e0cac5e",
   "metadata": {},
   "outputs": [
    {
     "name": "stdout",
     "output_type": "stream",
     "text": [
      "beek\n"
     ]
    }
   ],
   "source": [
    "print('book'.replace('o','e'))"
   ]
  },
  {
   "cell_type": "code",
   "execution_count": 44,
   "id": "55ffea6c",
   "metadata": {},
   "outputs": [
    {
     "name": "stdout",
     "output_type": "stream",
     "text": [
      "2\n",
      "-1\n"
     ]
    }
   ],
   "source": [
    "word='jewellery'\n",
    "print(word.find('well'))\n",
    "print(word.find('is'))"
   ]
  },
  {
   "cell_type": "code",
   "execution_count": 1,
   "id": "0a407649",
   "metadata": {},
   "outputs": [
    {
     "name": "stdout",
     "output_type": "stream",
     "text": [
      "Enter a number: 56\n",
      "Not a 3 digit\n"
     ]
    }
   ],
   "source": [
    "number=int(input('Enter a number: '))\n",
    "if number>99 and number<1000:\n",
    "    print(\"it is a 3 digit\")\n",
    "else:\n",
    "    print(\"Not a 3 digit\")"
   ]
  },
  {
   "cell_type": "code",
   "execution_count": 54,
   "id": "e7a0712a",
   "metadata": {},
   "outputs": [
    {
     "name": "stdout",
     "output_type": "stream",
     "text": [
      "Are you familiar with python: NO\n",
      "You are at the right place :-)\n"
     ]
    }
   ],
   "source": [
    "response = input('Are you familiar with python: ')\n",
    "if response.upper()==\"YES\":\n",
    "    print(\"You can skip this course :-|\")\n",
    "elif response.upper()==\"NO\":\n",
    "    print(\"You are at the right place :-)\") \n",
    "else:\n",
    "    print('Sorry wrong input :-(')"
   ]
  },
  {
   "cell_type": "code",
   "execution_count": 3,
   "id": "8bb575e5",
   "metadata": {},
   "outputs": [
    {
     "name": "stdout",
     "output_type": "stream",
     "text": [
      "0 1 2 3 4 5 6 7 8 9 "
     ]
    }
   ],
   "source": [
    "for x in range(10):\n",
    " print(x,end=' ')"
   ]
  },
  {
   "cell_type": "code",
   "execution_count": 4,
   "id": "a358912b",
   "metadata": {},
   "outputs": [
    {
     "name": "stdout",
     "output_type": "stream",
     "text": [
      "Enter a limit : 10\n",
      "Odd sum = 25\n"
     ]
    }
   ],
   "source": [
    "limit = int(input('Enter a limit: '))\n",
    "sum = 0\n",
    "for i in range(1,limit+1):\n",
    "    if i%2 !=0:\n",
    "        sum +=i\n",
    "print(\"Odd sum = \"+str(sum))"
   ]
  },
  {
   "cell_type": "code",
   "execution_count": 5,
   "id": "d1ab6175",
   "metadata": {},
   "outputs": [
    {
     "name": "stdout",
     "output_type": "stream",
     "text": [
      "[0, 1, 2, 3, 4, 5, 6, 7, 8, 9]\n"
     ]
    }
   ],
   "source": [
    "print(list(range(10)))"
   ]
  },
  {
   "cell_type": "code",
   "execution_count": 6,
   "id": "41a8aeae",
   "metadata": {},
   "outputs": [
    {
     "name": "stdout",
     "output_type": "stream",
     "text": [
      "[1, 2, 3, 4, 5, 6, 7, 8, 9]\n"
     ]
    }
   ],
   "source": [
    "print(list(range(1,10)))"
   ]
  },
  {
   "cell_type": "code",
   "execution_count": 7,
   "id": "8f002a43",
   "metadata": {},
   "outputs": [
    {
     "name": "stdout",
     "output_type": "stream",
     "text": [
      "[1, 3, 5, 7, 9]\n"
     ]
    }
   ],
   "source": [
    "print(list(range(1,10,2)))"
   ]
  },
  {
   "cell_type": "code",
   "execution_count": 8,
   "id": "03652ebe",
   "metadata": {},
   "outputs": [
    {
     "name": "stdout",
     "output_type": "stream",
     "text": [
      "Enter number : 45\n",
      "9\n"
     ]
    }
   ],
   "source": [
    "number = int(input('Enter number : '))\n",
    "s = 0\n",
    "while number > 0 :\n",
    "    s += number%10\n",
    "    number = number//10\n",
    "print(s)"
   ]
  },
  {
   "cell_type": "code",
   "execution_count": 1,
   "id": "ab853c27",
   "metadata": {},
   "outputs": [
    {
     "name": "stdout",
     "output_type": "stream",
     "text": [
      "Enter number : 24\n",
      "2 3 5 7 11 13 17 19 23 "
     ]
    }
   ],
   "source": [
    "limit = int(input('Enter number : '))\n",
    "for num in range(2,limit+1):\n",
    "    is_divisible = False\n",
    "    k=2\n",
    "    while k <= num//2 :\n",
    "        if num % k == 0:\n",
    "            is_divisible=True\n",
    "            break;\n",
    "        k += 1\n",
    "    if not is_divisible:\n",
    "        print(num,end=' ')"
   ]
  },
  {
   "cell_type": "code",
   "execution_count": 2,
   "id": "a304d64c",
   "metadata": {},
   "outputs": [
    {
     "name": "stdout",
     "output_type": "stream",
     "text": [
      "['a', 'b', 1, 2, 1.2, True]\n"
     ]
    }
   ],
   "source": [
    "mylist = ['a','b',1,2,1.2,True]\n",
    "print(mylist)"
   ]
  },
  {
   "cell_type": "code",
   "execution_count": 3,
   "id": "8b7e766c",
   "metadata": {},
   "outputs": [
    {
     "name": "stdout",
     "output_type": "stream",
     "text": [
      "['a', 'b', 1, 2, 1.2, True, 'new']\n"
     ]
    }
   ],
   "source": [
    "mylist.append('new')\n",
    "print(mylist)"
   ]
  },
  {
   "cell_type": "code",
   "execution_count": 4,
   "id": "748f164a",
   "metadata": {},
   "outputs": [
    {
     "name": "stdout",
     "output_type": "stream",
     "text": [
      "new\n"
     ]
    }
   ],
   "source": [
    "print(mylist.pop())"
   ]
  },
  {
   "cell_type": "code",
   "execution_count": 8,
   "id": "b2cfd90e",
   "metadata": {},
   "outputs": [
    {
     "name": "stdout",
     "output_type": "stream",
     "text": [
      "['a', 'b', 'new', 1, 2, 1.2, True]\n"
     ]
    }
   ],
   "source": [
    "mylist.insert(2,'new')\n",
    "print(mylist)"
   ]
  },
  {
   "cell_type": "code",
   "execution_count": 9,
   "id": "567d17cd",
   "metadata": {},
   "outputs": [
    {
     "name": "stdout",
     "output_type": "stream",
     "text": [
      "['a', 'b', 1, 2, 1.2, True]\n"
     ]
    }
   ],
   "source": [
    "mylist.remove('new')\n",
    "print(mylist)"
   ]
  },
  {
   "cell_type": "code",
   "execution_count": 10,
   "id": "4ae18713",
   "metadata": {},
   "outputs": [
    {
     "name": "stdout",
     "output_type": "stream",
     "text": [
      "['a', 'b', 1, 2, 1.2, True, [1, 2, 3]]\n"
     ]
    }
   ],
   "source": [
    "b=[1,2,3]\n",
    "mylist.append(b)\n",
    "print(mylist)"
   ]
  },
  {
   "cell_type": "code",
   "execution_count": 11,
   "id": "8f2ee701",
   "metadata": {},
   "outputs": [
    {
     "name": "stdout",
     "output_type": "stream",
     "text": [
      "['a', 'b', 1, 2, 1.2, True]\n"
     ]
    }
   ],
   "source": [
    "mylist.remove(b)\n",
    "print(mylist)"
   ]
  },
  {
   "cell_type": "code",
   "execution_count": 12,
   "id": "708dab23",
   "metadata": {},
   "outputs": [
    {
     "name": "stdout",
     "output_type": "stream",
     "text": [
      "['a', 'b', 1, 2, 1.2, True, 1, 2, 3]\n"
     ]
    }
   ],
   "source": [
    "mylist.extend(b)\n",
    "print(mylist)"
   ]
  },
  {
   "cell_type": "code",
   "execution_count": 15,
   "id": "2bca7a8c",
   "metadata": {},
   "outputs": [
    {
     "name": "stdout",
     "output_type": "stream",
     "text": [
      "[1, 2, 3, 4, 5]\n"
     ]
    }
   ],
   "source": [
    "a=[2,3,1,4,5]\n",
    "a.sort()\n",
    "print(a)"
   ]
  },
  {
   "cell_type": "code",
   "execution_count": 16,
   "id": "91b9de4c",
   "metadata": {},
   "outputs": [
    {
     "name": "stdout",
     "output_type": "stream",
     "text": [
      "['h', 'e', 'l', 'l', 'o']\n"
     ]
    }
   ],
   "source": [
    "print(list(\"hello\"))"
   ]
  },
  {
   "cell_type": "code",
   "execution_count": 20,
   "id": "edda38a5",
   "metadata": {},
   "outputs": [
    {
     "name": "stdout",
     "output_type": "stream",
     "text": [
      "2 10\n"
     ]
    }
   ],
   "source": [
    "numbers=[1,2,3,4,5,6,7,8,9,10]\n",
    "print(numbers[1],numbers[-1])"
   ]
  },
  {
   "cell_type": "code",
   "execution_count": 22,
   "id": "998c011c",
   "metadata": {},
   "outputs": [
    {
     "name": "stdout",
     "output_type": "stream",
     "text": [
      "[6, 7, 8, 9, 10]\n"
     ]
    }
   ],
   "source": [
    "sliced=numbers[5:11]\n",
    "print(sliced)"
   ]
  },
  {
   "cell_type": "code",
   "execution_count": 23,
   "id": "082607bc",
   "metadata": {},
   "outputs": [
    {
     "name": "stdout",
     "output_type": "stream",
     "text": [
      "[6, 7, 8, 9, 10]\n"
     ]
    }
   ],
   "source": [
    "sliced=numbers[5:]\n",
    "print(sliced)"
   ]
  },
  {
   "cell_type": "code",
   "execution_count": 24,
   "id": "a1f30ae7",
   "metadata": {},
   "outputs": [
    {
     "name": "stdout",
     "output_type": "stream",
     "text": [
      "[1, 2, 3, 4, 5, 6, 7]\n"
     ]
    }
   ],
   "source": [
    "sliced=numbers[:7]\n",
    "print(sliced)"
   ]
  },
  {
   "cell_type": "code",
   "execution_count": 21,
   "id": "caf0ae64",
   "metadata": {},
   "outputs": [
    {
     "name": "stdout",
     "output_type": "stream",
     "text": [
      "[9, 10]\n"
     ]
    }
   ],
   "source": [
    "sliced=numbers[-2:]\n",
    "print(sliced)"
   ]
  },
  {
   "cell_type": "code",
   "execution_count": 25,
   "id": "e7b6c1cd",
   "metadata": {},
   "outputs": [
    {
     "name": "stdout",
     "output_type": "stream",
     "text": [
      "[1, 2, 3, 4, 5, 6, 7]\n"
     ]
    }
   ],
   "source": [
    "numbers=list(range(1,8))\n",
    "print(numbers)"
   ]
  },
  {
   "cell_type": "code",
   "execution_count": 29,
   "id": "2a75ddec",
   "metadata": {},
   "outputs": [
    {
     "name": "stdout",
     "output_type": "stream",
     "text": [
      "[1, 4, 9, 16, 25, 36, 49]\n"
     ]
    }
   ],
   "source": [
    "square=[]\n",
    "for i in numbers:\n",
    "    square.append(pow(i,2))\n",
    "print(square)    "
   ]
  },
  {
   "cell_type": "code",
   "execution_count": 30,
   "id": "330f3484",
   "metadata": {},
   "outputs": [
    {
     "name": "stdout",
     "output_type": "stream",
     "text": [
      "[1, 4, 9, 16, 25, 36, 49]\n"
     ]
    }
   ],
   "source": [
    "square=[x**2 for x in numbers]\n",
    "print(square)"
   ]
  },
  {
   "cell_type": "code",
   "execution_count": 31,
   "id": "f1d8744e",
   "metadata": {},
   "outputs": [
    {
     "name": "stdout",
     "output_type": "stream",
     "text": [
      "[1, 9, 25, 49]\n"
     ]
    }
   ],
   "source": [
    "odd_square=[x**2 for x in numbers if x%2 !=0]\n",
    "print(odd_square)"
   ]
  },
  {
   "cell_type": "code",
   "execution_count": 32,
   "id": "18c66331",
   "metadata": {},
   "outputs": [
    {
     "name": "stdout",
     "output_type": "stream",
     "text": [
      "[(4, 4), (4, 6), (4, 8), (4, 9), (6, 4), (6, 6), (6, 8), (6, 9), (8, 4), (8, 6), (8, 8), (8, 9), (9, 4), (9, 6), (9, 8), (9, 9)]\n"
     ]
    }
   ],
   "source": [
    "A=[4,6,8,9]\n",
    "AxA=[(a,b)for a in A for b in A if A!=b]\n",
    "print(AxA)"
   ]
  },
  {
   "cell_type": "code",
   "execution_count": 33,
   "id": "55b9b0d5",
   "metadata": {},
   "outputs": [
    {
     "name": "stdout",
     "output_type": "stream",
     "text": [
      "Manu\n"
     ]
    }
   ],
   "source": [
    "person={'name':'Manu','age':28}\n",
    "print(person['name'])"
   ]
  },
  {
   "cell_type": "code",
   "execution_count": 34,
   "id": "cdbc64c1",
   "metadata": {},
   "outputs": [
    {
     "name": "stdout",
     "output_type": "stream",
     "text": [
      "True\n"
     ]
    }
   ],
   "source": [
    "print('name' in person)"
   ]
  },
  {
   "cell_type": "code",
   "execution_count": 35,
   "id": "ddfbb11b",
   "metadata": {},
   "outputs": [
    {
     "name": "stdout",
     "output_type": "stream",
     "text": [
      "{'name': 'Manu', 'age': 28, 'sex': 'male'}\n"
     ]
    }
   ],
   "source": [
    "person['sex']='male'\n",
    "print(person)"
   ]
  },
  {
   "cell_type": "code",
   "execution_count": 36,
   "id": "1a4d88e1",
   "metadata": {},
   "outputs": [
    {
     "name": "stdout",
     "output_type": "stream",
     "text": [
      "name Manu\n",
      "age 28\n",
      "sex male\n"
     ]
    }
   ],
   "source": [
    "for item in person:\n",
    "        print(item,person[item])"
   ]
  },
  {
   "cell_type": "code",
   "execution_count": 37,
   "id": "9a819c20",
   "metadata": {},
   "outputs": [
    {
     "name": "stdout",
     "output_type": "stream",
     "text": [
      "Name \t:\t Manu\n",
      "Age \t:\t 28\n",
      "Sex \t:\t male\n"
     ]
    }
   ],
   "source": [
    "for(key,value) in person.items():\n",
    "        print(key.capitalize(),'\\t:\\t',value)"
   ]
  },
  {
   "cell_type": "code",
   "execution_count": 38,
   "id": "d688b23c",
   "metadata": {},
   "outputs": [
    {
     "name": "stdout",
     "output_type": "stream",
     "text": [
      "(1, 2, 3) (4, 5, 6)\n"
     ]
    }
   ],
   "source": [
    "t1 = (1,2,3)\n",
    "t2 = 4,5,6\n",
    "print(t1,t2)"
   ]
  },
  {
   "cell_type": "code",
   "execution_count": 39,
   "id": "a8eb37e1",
   "metadata": {},
   "outputs": [
    {
     "name": "stdout",
     "output_type": "stream",
     "text": [
      "(1, 2, 3, 4, 5, 6)\n"
     ]
    }
   ],
   "source": [
    "t3 = t1 +t2\n",
    "print(t3)"
   ]
  },
  {
   "cell_type": "code",
   "execution_count": 44,
   "id": "58345ccb",
   "metadata": {},
   "outputs": [
    {
     "name": "stdout",
     "output_type": "stream",
     "text": [
      "('a', 'b', 'c', 'd')\n"
     ]
    }
   ],
   "source": [
    "lt=tuple(['a','b','c','d'])\n",
    "print(lt)"
   ]
  },
  {
   "cell_type": "code",
   "execution_count": 45,
   "id": "25f5dba2",
   "metadata": {},
   "outputs": [
    {
     "ename": "TypeError",
     "evalue": "'tuple' object does not support item assignment",
     "output_type": "error",
     "traceback": [
      "\u001b[0;31m---------------------------------------------------------------------------\u001b[0m",
      "\u001b[0;31mTypeError\u001b[0m                                 Traceback (most recent call last)",
      "\u001b[0;32m/tmp/ipykernel_3602/2432084581.py\u001b[0m in \u001b[0;36m<module>\u001b[0;34m\u001b[0m\n\u001b[0;32m----> 1\u001b[0;31m \u001b[0mlt\u001b[0m\u001b[0;34m[\u001b[0m\u001b[0;36m2\u001b[0m\u001b[0;34m]\u001b[0m\u001b[0;34m=\u001b[0m\u001b[0;34m'x'\u001b[0m\u001b[0;34m\u001b[0m\u001b[0;34m\u001b[0m\u001b[0m\n\u001b[0m",
      "\u001b[0;31mTypeError\u001b[0m: 'tuple' object does not support item assignment"
     ]
    }
   ],
   "source": [
    "lt[2]='x'"
   ]
  },
  {
   "cell_type": "code",
   "execution_count": 46,
   "id": "eea0275d",
   "metadata": {},
   "outputs": [
    {
     "name": "stdout",
     "output_type": "stream",
     "text": [
      "<class 'int'>\n"
     ]
    }
   ],
   "source": [
    "s=(3)\n",
    "print(type(s))"
   ]
  },
  {
   "cell_type": "code",
   "execution_count": 47,
   "id": "5f34912e",
   "metadata": {},
   "outputs": [
    {
     "name": "stdout",
     "output_type": "stream",
     "text": [
      "<class 'tuple'>\n"
     ]
    }
   ],
   "source": [
    "s=(3,)\n",
    "print(type(s))"
   ]
  },
  {
   "cell_type": "code",
   "execution_count": 48,
   "id": "04c77499",
   "metadata": {},
   "outputs": [
    {
     "name": "stdout",
     "output_type": "stream",
     "text": [
      "{1, 2, 3} <class 'set'>\n"
     ]
    }
   ],
   "source": [
    "s={1,2,3}\n",
    "print(s,type(s))"
   ]
  },
  {
   "cell_type": "code",
   "execution_count": 49,
   "id": "5574fc24",
   "metadata": {},
   "outputs": [
    {
     "name": "stdout",
     "output_type": "stream",
     "text": [
      "{'cherry', 'apple'}\n"
     ]
    }
   ],
   "source": [
    "fset={\"apple\",\"banana\",\"cherry\"}\n",
    "fset.remove(\"banana\")\n",
    "print(fset)"
   ]
  },
  {
   "cell_type": "code",
   "execution_count": 50,
   "id": "dbdca21a",
   "metadata": {},
   "outputs": [
    {
     "name": "stdout",
     "output_type": "stream",
     "text": [
      "{'cherry', 'apple'}\n"
     ]
    }
   ],
   "source": [
    "fset={\"apple\",\"banana\",\"cherry\"}\n",
    "fset.discard(\"banana\")\n",
    "print(fset)"
   ]
  },
  {
   "cell_type": "code",
   "execution_count": 52,
   "id": "d3d14ea7",
   "metadata": {},
   "outputs": [
    {
     "name": "stdout",
     "output_type": "stream",
     "text": [
      "set()\n"
     ]
    }
   ],
   "source": [
    "fset={\"apple\",\"banana\",\"cherry\"}\n",
    "fset.clear()\n",
    "print(fset)"
   ]
  },
  {
   "cell_type": "code",
   "execution_count": 53,
   "id": "f265ba65",
   "metadata": {},
   "outputs": [
    {
     "name": "stdout",
     "output_type": "stream",
     "text": [
      "{'b', 1, 2, 'c', 3, 'a'}\n"
     ]
    }
   ],
   "source": [
    "set1={\"a\",\"b\",\"c\"}\n",
    "set2={1,2,3}\n",
    "set3=set1.union(set2)\n",
    "print(set3)"
   ]
  },
  {
   "cell_type": "code",
   "execution_count": 55,
   "id": "045d8af9",
   "metadata": {},
   "outputs": [
    {
     "name": "stdout",
     "output_type": "stream",
     "text": [
      "{'apple'}\n"
     ]
    }
   ],
   "source": [
    "x={\"apple\",\"banana\",\"cherry\"}\n",
    "y={\"google\",\"microsoft\",\"apple\"}\n",
    "z=x.intersection(y)\n",
    "print(z)"
   ]
  },
  {
   "cell_type": "code",
   "execution_count": 56,
   "id": "8474dbde",
   "metadata": {},
   "outputs": [
    {
     "name": "stdout",
     "output_type": "stream",
     "text": [
      "[1, 2, 3, 4, 5, 6, 7]\n"
     ]
    }
   ],
   "source": [
    "lst=[1,2,3,4,5,5,5,7,6]\n",
    "myset=list(set(lst))\n",
    "print(myset)"
   ]
  },
  {
   "cell_type": "code",
   "execution_count": 57,
   "id": "e68ef749",
   "metadata": {},
   "outputs": [
    {
     "name": "stdout",
     "output_type": "stream",
     "text": [
      "10\n"
     ]
    }
   ],
   "source": [
    "def twice(number):\n",
    "    return 2*number\n",
    "t = twice(5)\n",
    "print(t)"
   ]
  },
  {
   "cell_type": "code",
   "execution_count": 59,
   "id": "1b4d83cd",
   "metadata": {},
   "outputs": [
    {
     "name": "stdout",
     "output_type": "stream",
     "text": [
      "Enter the number 15\n",
      "False\n"
     ]
    }
   ],
   "source": [
    "def isPrime(number):\n",
    "    for factor in range(2, (number//2)+1):\n",
    "        if number%factor == 0:\n",
    "            return False\n",
    "    return True\n",
    "\n",
    "number=int(input('Enter the number '))\n",
    "print(isPrime(number))"
   ]
  },
  {
   "cell_type": "code",
   "execution_count": 60,
   "id": "ce8d73a5",
   "metadata": {},
   "outputs": [
    {
     "name": "stdout",
     "output_type": "stream",
     "text": [
      "5 7 11 13 17 19 23 29 31 37 41 43 47 "
     ]
    }
   ],
   "source": [
    "def printPrimes(llimit, ulimit):\n",
    "    for num in range(llimit, ulimit + 1):\n",
    "        if isPrime(num) == True:\n",
    "            print(num, end = ' ')\n",
    "\n",
    "printPrimes(5,50)"
   ]
  },
  {
   "cell_type": "code",
   "execution_count": 61,
   "id": "e7654d65",
   "metadata": {},
   "outputs": [
    {
     "name": "stdout",
     "output_type": "stream",
     "text": [
      "7 5\n"
     ]
    }
   ],
   "source": [
    "def swap(x,y):\n",
    "    t = x\n",
    "    x = y\n",
    "    y = t\n",
    "    return x,y\n",
    "\n",
    "a=5\n",
    "b=7\n",
    "a,b=swap(a,b)\n",
    "print(a,b)"
   ]
  },
  {
   "cell_type": "code",
   "execution_count": null,
   "id": "1d18e653",
   "metadata": {},
   "outputs": [],
   "source": []
  }
 ],
 "metadata": {
  "kernelspec": {
   "display_name": "Python 3 (ipykernel)",
   "language": "python",
   "name": "python3"
  },
  "language_info": {
   "codemirror_mode": {
    "name": "ipython",
    "version": 3
   },
   "file_extension": ".py",
   "mimetype": "text/x-python",
   "name": "python",
   "nbconvert_exporter": "python",
   "pygments_lexer": "ipython3",
   "version": "3.9.7"
  }
 },
 "nbformat": 4,
 "nbformat_minor": 5
}
